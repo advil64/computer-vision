{
 "cells": [
  {
   "cell_type": "code",
   "execution_count": 1,
   "metadata": {},
   "outputs": [],
   "source": [
    "import numpy as np\n",
    "from sklearn.metrics import confusion_matrix \n",
    "from scipy.spatial.distance import cdist \n",
    "from skimage.measure import label, regionprops, moments, moments_central, moments_normalized, moments_hu \n",
    "from skimage import io, exposure \n",
    "import matplotlib.pyplot as plt \n",
    "from matplotlib.patches import Rectangle \n",
    "import pickle"
   ]
  },
  {
   "cell_type": "code",
   "execution_count": 3,
   "metadata": {},
   "outputs": [
    {
     "name": "stdout",
     "output_type": "stream",
     "text": [
      "(750, 600)\n"
     ]
    }
   ],
   "source": [
    "img = io.imread('H1-16images/a.bmp')\n",
    "print(img.shape)"
   ]
  }
 ],
 "metadata": {
  "interpreter": {
   "hash": "ce48be0115edbc97707ff01f9064bd6b4bf2d1495c60f036bc538f41e9ab377b"
  },
  "kernelspec": {
   "display_name": "Python 3.8.10 ('computer-vision-OYP0qSPr')",
   "language": "python",
   "name": "python3"
  },
  "language_info": {
   "codemirror_mode": {
    "name": "ipython",
    "version": 3
   },
   "file_extension": ".py",
   "mimetype": "text/x-python",
   "name": "python",
   "nbconvert_exporter": "python",
   "pygments_lexer": "ipython3",
   "version": "3.8.10"
  },
  "orig_nbformat": 4
 },
 "nbformat": 4,
 "nbformat_minor": 2
}
