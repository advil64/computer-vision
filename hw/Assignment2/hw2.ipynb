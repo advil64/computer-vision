{
 "cells": [
  {
   "cell_type": "code",
   "execution_count": 15,
   "metadata": {},
   "outputs": [],
   "source": [
    "import numpy as np\n",
    "from skimage import io\n",
    "import matplotlib.pyplot as plt\n",
    "from random import randint"
   ]
  },
  {
   "cell_type": "markdown",
   "metadata": {},
   "source": [
    "## Texture Synthesis\n",
    "\n",
    "Implements Efros and Leung’s approach, to synthesize a 200x200 pixel image for each of the five example images"
   ]
  },
  {
   "cell_type": "code",
   "execution_count": 14,
   "metadata": {},
   "outputs": [],
   "source": [
    "# hyperparameters and other global variables\n",
    "input_path = '/Users/advithchegu/Desktop/Rutgers/Spring 22/Computer Vision/hw/Assignment2/samples/'\n",
    "output_path = '/Users/advithchegu/Desktop/Rutgers/Spring 22/Computer Vision/hw/Assignment2/out/'\n",
    "out_height = 200\n",
    "out_width = 200\n",
    "window_size = 5\n",
    "sample_img = 'T1.gif'\n",
    "ErrThreshold = 0.1\n",
    "MaxErrThreshold = 0.3\n",
    "Sigma = window_size / 6.4\n",
    "seed_size = 3"
   ]
  },
  {
   "cell_type": "code",
   "execution_count": 19,
   "metadata": {},
   "outputs": [
    {
     "data": {
      "image/png": "[encoded data removed]",
      "text/plain": [
       "<Figure size 432x288 with 1 Axes>"
      ]
     },
     "metadata": {
      "needs_background": "light"
     },
     "output_type": "display_data"
    }
   ],
   "source": [
    "# we need to first read the sample image and convert it to a binary representation\n",
    "SampleImage = io.imread(input_path + sample_img)\n",
    "\n",
    "io.imshow(SampleImage)\n",
    "plt.title('Original Image')\n",
    "io.show()\n",
    "\n",
    "# shrink to range between 0 and 1\n",
    "SampleImage = SampleImage / 255.0"
   ]
  },
  {
   "cell_type": "code",
   "execution_count": 22,
   "metadata": {},
   "outputs": [],
   "source": [
    "'''\n",
    "Let SampleImage contain the image we are sampling from and let Image be the mostly empty \n",
    "image that we want to fill in (if synthesizing from scratch, it should contain a 3-by-3 \n",
    "seed in the center randomly taken from SampleImage, for constrained synthesis it should \n",
    "contain all the known pixels). \n",
    "'''\n",
    "\n",
    "# the resulting image given dimensions\n",
    "Image = np.zeros((out_width,out_height))\n",
    "\n",
    "# first we need to get the 3 by 3 seed image from our sample image\n",
    "(r, c) = np.shape(SampleImage)\n",
    "\n",
    "x1 = randint(0, r - seed_size)\n",
    "y1 = randint(0, c - seed_size)\n",
    "x2 = x1 + seed_size\n",
    "y2 = y1 + seed_size\n",
    "\n",
    "SeedImage = SampleImage[x1:x2, y1:y2]\n",
    "\n",
    "# next we have to put the seed image in the center of the sample image\n",
    "center_row = int(out_width/2)\n",
    "center_col = int(out_height/2)\n",
    "half_seed = int(seed_size/2)\n",
    "\n",
    "# plus one because the last index doesn't count\n",
    "Image[center_row-half_seed:center_row+half_seed+1, center_col-half_seed:center_col+half_seed+1] = SeedImage\n",
    "\n",
    "# map to mark the pixels that we have synthesized already\n",
    "ValidMask = np.zeros_like(Image)\n",
    "ValidMask[center_row-half_seed:center_row+half_seed+1, center_col-half_seed:center_col+half_seed+1] = np.ones_like(SeedImage)"
   ]
  },
  {
   "cell_type": "code",
   "execution_count": null,
   "metadata": {},
   "outputs": [],
   "source": [
    "'''\n",
    "Function GetUnfilledNeighbors() returns a list of all unfilled pixels that have filled \n",
    "pixels as their neighbors (the image is subtracted from its morphological dilation)\n",
    "'''\n",
    "def GetUnfilledNeighbors():\n",
    "    "
   ]
  }
 ],
 "metadata": {
  "interpreter": {
   "hash": "6759ebf3e21bfeeed70085251bb2f459bfe4ed721a3f539ce12a552db5b76539"
  },
  "kernelspec": {
   "display_name": "Python 3.7.4 ('Computer_Vision-j7KnroHV')",
   "language": "python",
   "name": "python3"
  },
  "language_info": {
   "codemirror_mode": {
    "name": "ipython",
    "version": 3
   },
   "file_extension": ".py",
   "mimetype": "text/x-python",
   "name": "python",
   "nbconvert_exporter": "python",
   "pygments_lexer": "ipython3",
   "version": "3.7.4"
  },
  "orig_nbformat": 4
 },
 "nbformat": 4,
 "nbformat_minor": 2
}
